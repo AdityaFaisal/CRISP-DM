{
  "nbformat": 4,
  "nbformat_minor": 0,
  "metadata": {
    "colab": {
      "name": "TugasAkhir.ipynb",
      "provenance": [],
      "authorship_tag": "ABX9TyN5V51jK3D0egYLMl7wbDgW",
      "include_colab_link": true
    },
    "kernelspec": {
      "name": "python3",
      "display_name": "Python 3"
    },
    "language_info": {
      "name": "python"
    }
  },
  "cells": [
    {
      "cell_type": "markdown",
      "metadata": {
        "id": "view-in-github",
        "colab_type": "text"
      },
      "source": [
        "<a href=\"https://colab.research.google.com/github/AdityaFaisal/CRISP-DM/blob/main/TugasAkhir.ipynb\" target=\"_parent\"><img src=\"https://colab.research.google.com/assets/colab-badge.svg\" alt=\"Open In Colab\"/></a>"
      ]
    },
    {
      "cell_type": "code",
      "metadata": {
        "id": "QNt8Y9yLPfp8"
      },
      "source": [
        "import pandas as pd\n",
        "import numpy as np\n",
        "from pprint import pprint\n",
        "from datetime import datetime\n"
      ],
      "execution_count": 76,
      "outputs": []
    },
    {
      "cell_type": "markdown",
      "metadata": {
        "id": "RTcUUPByXznB"
      },
      "source": [
        "Data Understanding\n"
      ]
    },
    {
      "cell_type": "code",
      "metadata": {
        "id": "xIkRo9jEMDjT"
      },
      "source": [
        "df =  pd.read_csv(\"data-sebaran-smk.csv\") "
      ],
      "execution_count": 77,
      "outputs": []
    },
    {
      "cell_type": "markdown",
      "metadata": {
        "id": "RDPZCqizHdU-"
      },
      "source": [
        "Menampilkan Data Dari Dataset yang diinput\n"
      ]
    },
    {
      "cell_type": "code",
      "metadata": {
        "colab": {
          "base_uri": "https://localhost:8080/",
          "height": 377
        },
        "id": "SbTfvl6ORFtP",
        "outputId": "da572cad-7cb4-4b5c-ecbb-e4ca8e182123"
      },
      "source": [
        "df.head(5)"
      ],
      "execution_count": 31,
      "outputs": [
        {
          "output_type": "execute_result",
          "data": {
            "text/html": [
              "<div>\n",
              "<style scoped>\n",
              "    .dataframe tbody tr th:only-of-type {\n",
              "        vertical-align: middle;\n",
              "    }\n",
              "\n",
              "    .dataframe tbody tr th {\n",
              "        vertical-align: top;\n",
              "    }\n",
              "\n",
              "    .dataframe thead th {\n",
              "        text-align: right;\n",
              "    }\n",
              "</style>\n",
              "<table border=\"1\" class=\"dataframe\">\n",
              "  <thead>\n",
              "    <tr style=\"text-align: right;\">\n",
              "      <th></th>\n",
              "      <th>npsn</th>\n",
              "      <th>nama_sekolah</th>\n",
              "      <th>alamat</th>\n",
              "      <th>kelurahan</th>\n",
              "      <th>kecamatan</th>\n",
              "      <th>jumlah_siswa</th>\n",
              "      <th>jumlah_guru</th>\n",
              "      <th>kepala_sekolah</th>\n",
              "      <th>telp_sekolah</th>\n",
              "      <th>akreditasi</th>\n",
              "      <th>latitude</th>\n",
              "      <th>longitude</th>\n",
              "    </tr>\n",
              "  </thead>\n",
              "  <tbody>\n",
              "    <tr>\n",
              "      <th>0</th>\n",
              "      <td>11298527</td>\n",
              "      <td>SMK Insan Aqilah 4 Jakarta</td>\n",
              "      <td>Jl. Penerangan No. IA</td>\n",
              "      <td>Wijaya Kusuma</td>\n",
              "      <td>Grogol Petamburan</td>\n",
              "      <td>47</td>\n",
              "      <td>6.0</td>\n",
              "      <td>Kartika Vica Zuspita</td>\n",
              "      <td>021 5688893</td>\n",
              "      <td>Tidak Terakreditasi</td>\n",
              "      <td>NaN</td>\n",
              "      <td>NaN</td>\n",
              "    </tr>\n",
              "    <tr>\n",
              "      <th>1</th>\n",
              "      <td>20100104</td>\n",
              "      <td>SMK Kartini 1 Jakarta</td>\n",
              "      <td>Jl. Katini Raya No. 26</td>\n",
              "      <td>Kartini</td>\n",
              "      <td>Sawah Besar</td>\n",
              "      <td>139</td>\n",
              "      <td>8.0</td>\n",
              "      <td>NaN</td>\n",
              "      <td>021 6597662</td>\n",
              "      <td>A</td>\n",
              "      <td>-6.158000</td>\n",
              "      <td>106.836601</td>\n",
              "    </tr>\n",
              "    <tr>\n",
              "      <th>2</th>\n",
              "      <td>20100105</td>\n",
              "      <td>SMK Kampung Jawa Jakarta</td>\n",
              "      <td>Jl. Percetakan Negara 2</td>\n",
              "      <td>Johar Baru</td>\n",
              "      <td>Johar Baru</td>\n",
              "      <td>384</td>\n",
              "      <td>29.0</td>\n",
              "      <td>NaN</td>\n",
              "      <td>021 4212680</td>\n",
              "      <td>B</td>\n",
              "      <td>-6.186982</td>\n",
              "      <td>106.856354</td>\n",
              "    </tr>\n",
              "    <tr>\n",
              "      <th>3</th>\n",
              "      <td>20100108</td>\n",
              "      <td>SMK Jakarta Pusat 1</td>\n",
              "      <td>Jl. Abdul Muis No. 44</td>\n",
              "      <td>Petojo Selatan</td>\n",
              "      <td>Gambir</td>\n",
              "      <td>704</td>\n",
              "      <td>45.0</td>\n",
              "      <td>LILIK BINTORO TP. SH., MM.</td>\n",
              "      <td>021 3843975</td>\n",
              "      <td>A</td>\n",
              "      <td>-6.175566</td>\n",
              "      <td>106.820168</td>\n",
              "    </tr>\n",
              "    <tr>\n",
              "      <th>4</th>\n",
              "      <td>20100110</td>\n",
              "      <td>SMK Katolik Sint Joseph Jakarta</td>\n",
              "      <td>Jl. Kramat Raya No. 134</td>\n",
              "      <td>Kenari</td>\n",
              "      <td>Senen</td>\n",
              "      <td>28</td>\n",
              "      <td>9.0</td>\n",
              "      <td>YOVITA TRIWILUDJENG, S.Pd</td>\n",
              "      <td>021 31904023</td>\n",
              "      <td>B</td>\n",
              "      <td>-6.188142</td>\n",
              "      <td>106.846024</td>\n",
              "    </tr>\n",
              "  </tbody>\n",
              "</table>\n",
              "</div>"
            ],
            "text/plain": [
              "       npsn                     nama_sekolah  ...  latitude   longitude\n",
              "0  11298527       SMK Insan Aqilah 4 Jakarta  ...       NaN         NaN\n",
              "1  20100104            SMK Kartini 1 Jakarta  ... -6.158000  106.836601\n",
              "2  20100105         SMK Kampung Jawa Jakarta  ... -6.186982  106.856354\n",
              "3  20100108              SMK Jakarta Pusat 1  ... -6.175566  106.820168\n",
              "4  20100110  SMK Katolik Sint Joseph Jakarta  ... -6.188142  106.846024\n",
              "\n",
              "[5 rows x 12 columns]"
            ]
          },
          "metadata": {
            "tags": []
          },
          "execution_count": 31
        }
      ]
    },
    {
      "cell_type": "code",
      "metadata": {
        "id": "im20T3JVMmF5",
        "outputId": "955eb992-4fd5-4686-883d-09ef45febc2a",
        "colab": {
          "base_uri": "https://localhost:8080/"
        }
      },
      "source": [
        "df.shape"
      ],
      "execution_count": 79,
      "outputs": [
        {
          "output_type": "execute_result",
          "data": {
            "text/plain": [
              "(601, 12)"
            ]
          },
          "metadata": {
            "tags": []
          },
          "execution_count": 79
        }
      ]
    },
    {
      "cell_type": "code",
      "metadata": {
        "colab": {
          "base_uri": "https://localhost:8080/",
          "height": 461
        },
        "id": "Y2IV1qGTRHrG",
        "outputId": "fc395780-8e5e-4e6c-97be-369f8dbd9d4d"
      },
      "source": [
        "df.describe(include='all')"
      ],
      "execution_count": 82,
      "outputs": [
        {
          "output_type": "execute_result",
          "data": {
            "text/html": [
              "<div>\n",
              "<style scoped>\n",
              "    .dataframe tbody tr th:only-of-type {\n",
              "        vertical-align: middle;\n",
              "    }\n",
              "\n",
              "    .dataframe tbody tr th {\n",
              "        vertical-align: top;\n",
              "    }\n",
              "\n",
              "    .dataframe thead th {\n",
              "        text-align: right;\n",
              "    }\n",
              "</style>\n",
              "<table border=\"1\" class=\"dataframe\">\n",
              "  <thead>\n",
              "    <tr style=\"text-align: right;\">\n",
              "      <th></th>\n",
              "      <th>npsn</th>\n",
              "      <th>nama_sekolah</th>\n",
              "      <th>alamat</th>\n",
              "      <th>kelurahan</th>\n",
              "      <th>kecamatan</th>\n",
              "      <th>jumlah_siswa</th>\n",
              "      <th>jumlah_guru</th>\n",
              "      <th>kepala_sekolah</th>\n",
              "      <th>telp_sekolah</th>\n",
              "      <th>akreditasi</th>\n",
              "      <th>latitude</th>\n",
              "      <th>longitude</th>\n",
              "    </tr>\n",
              "  </thead>\n",
              "  <tbody>\n",
              "    <tr>\n",
              "      <th>count</th>\n",
              "      <td>596</td>\n",
              "      <td>601</td>\n",
              "      <td>601</td>\n",
              "      <td>601</td>\n",
              "      <td>601</td>\n",
              "      <td>601.000000</td>\n",
              "      <td>599.000000</td>\n",
              "      <td>565</td>\n",
              "      <td>597</td>\n",
              "      <td>600</td>\n",
              "      <td>579.000000</td>\n",
              "      <td>579.000000</td>\n",
              "    </tr>\n",
              "    <tr>\n",
              "      <th>unique</th>\n",
              "      <td>595</td>\n",
              "      <td>597</td>\n",
              "      <td>572</td>\n",
              "      <td>210</td>\n",
              "      <td>43</td>\n",
              "      <td>NaN</td>\n",
              "      <td>NaN</td>\n",
              "      <td>564</td>\n",
              "      <td>580</td>\n",
              "      <td>4</td>\n",
              "      <td>NaN</td>\n",
              "      <td>NaN</td>\n",
              "    </tr>\n",
              "    <tr>\n",
              "      <th>top</th>\n",
              "      <td>20101674</td>\n",
              "      <td>SMK Dewi Sartika</td>\n",
              "      <td>Jl. Raya Bekasi Km. 26</td>\n",
              "      <td>Srengseng Sawah</td>\n",
              "      <td>Cakung</td>\n",
              "      <td>NaN</td>\n",
              "      <td>NaN</td>\n",
              "      <td>Djuwatno</td>\n",
              "      <td>021 43938541</td>\n",
              "      <td>A</td>\n",
              "      <td>NaN</td>\n",
              "      <td>NaN</td>\n",
              "    </tr>\n",
              "    <tr>\n",
              "      <th>freq</th>\n",
              "      <td>2</td>\n",
              "      <td>2</td>\n",
              "      <td>4</td>\n",
              "      <td>11</td>\n",
              "      <td>33</td>\n",
              "      <td>NaN</td>\n",
              "      <td>NaN</td>\n",
              "      <td>2</td>\n",
              "      <td>2</td>\n",
              "      <td>307</td>\n",
              "      <td>NaN</td>\n",
              "      <td>NaN</td>\n",
              "    </tr>\n",
              "    <tr>\n",
              "      <th>mean</th>\n",
              "      <td>NaN</td>\n",
              "      <td>NaN</td>\n",
              "      <td>NaN</td>\n",
              "      <td>NaN</td>\n",
              "      <td>NaN</td>\n",
              "      <td>276.996672</td>\n",
              "      <td>24.954925</td>\n",
              "      <td>NaN</td>\n",
              "      <td>NaN</td>\n",
              "      <td>NaN</td>\n",
              "      <td>-6.215503</td>\n",
              "      <td>106.837901</td>\n",
              "    </tr>\n",
              "    <tr>\n",
              "      <th>std</th>\n",
              "      <td>NaN</td>\n",
              "      <td>NaN</td>\n",
              "      <td>NaN</td>\n",
              "      <td>NaN</td>\n",
              "      <td>NaN</td>\n",
              "      <td>304.265312</td>\n",
              "      <td>14.808351</td>\n",
              "      <td>NaN</td>\n",
              "      <td>NaN</td>\n",
              "      <td>NaN</td>\n",
              "      <td>0.076740</td>\n",
              "      <td>0.076490</td>\n",
              "    </tr>\n",
              "    <tr>\n",
              "      <th>min</th>\n",
              "      <td>NaN</td>\n",
              "      <td>NaN</td>\n",
              "      <td>NaN</td>\n",
              "      <td>NaN</td>\n",
              "      <td>NaN</td>\n",
              "      <td>0.000000</td>\n",
              "      <td>1.000000</td>\n",
              "      <td>NaN</td>\n",
              "      <td>NaN</td>\n",
              "      <td>NaN</td>\n",
              "      <td>-6.822000</td>\n",
              "      <td>106.249939</td>\n",
              "    </tr>\n",
              "    <tr>\n",
              "      <th>25%</th>\n",
              "      <td>NaN</td>\n",
              "      <td>NaN</td>\n",
              "      <td>NaN</td>\n",
              "      <td>NaN</td>\n",
              "      <td>NaN</td>\n",
              "      <td>71.000000</td>\n",
              "      <td>15.000000</td>\n",
              "      <td>NaN</td>\n",
              "      <td>NaN</td>\n",
              "      <td>NaN</td>\n",
              "      <td>-6.262008</td>\n",
              "      <td>106.796730</td>\n",
              "    </tr>\n",
              "    <tr>\n",
              "      <th>50%</th>\n",
              "      <td>NaN</td>\n",
              "      <td>NaN</td>\n",
              "      <td>NaN</td>\n",
              "      <td>NaN</td>\n",
              "      <td>NaN</td>\n",
              "      <td>172.000000</td>\n",
              "      <td>21.000000</td>\n",
              "      <td>NaN</td>\n",
              "      <td>NaN</td>\n",
              "      <td>NaN</td>\n",
              "      <td>-6.203148</td>\n",
              "      <td>106.844368</td>\n",
              "    </tr>\n",
              "    <tr>\n",
              "      <th>75%</th>\n",
              "      <td>NaN</td>\n",
              "      <td>NaN</td>\n",
              "      <td>NaN</td>\n",
              "      <td>NaN</td>\n",
              "      <td>NaN</td>\n",
              "      <td>385.000000</td>\n",
              "      <td>31.000000</td>\n",
              "      <td>NaN</td>\n",
              "      <td>NaN</td>\n",
              "      <td>NaN</td>\n",
              "      <td>-6.160683</td>\n",
              "      <td>106.888176</td>\n",
              "    </tr>\n",
              "    <tr>\n",
              "      <th>max</th>\n",
              "      <td>NaN</td>\n",
              "      <td>NaN</td>\n",
              "      <td>NaN</td>\n",
              "      <td>NaN</td>\n",
              "      <td>NaN</td>\n",
              "      <td>2035.000000</td>\n",
              "      <td>105.000000</td>\n",
              "      <td>NaN</td>\n",
              "      <td>NaN</td>\n",
              "      <td>NaN</td>\n",
              "      <td>-5.802386</td>\n",
              "      <td>106.970238</td>\n",
              "    </tr>\n",
              "  </tbody>\n",
              "</table>\n",
              "</div>"
            ],
            "text/plain": [
              "            npsn      nama_sekolah  ...    latitude   longitude\n",
              "count        596               601  ...  579.000000  579.000000\n",
              "unique       595               597  ...         NaN         NaN\n",
              "top     20101674  SMK Dewi Sartika  ...         NaN         NaN\n",
              "freq           2                 2  ...         NaN         NaN\n",
              "mean         NaN               NaN  ...   -6.215503  106.837901\n",
              "std          NaN               NaN  ...    0.076740    0.076490\n",
              "min          NaN               NaN  ...   -6.822000  106.249939\n",
              "25%          NaN               NaN  ...   -6.262008  106.796730\n",
              "50%          NaN               NaN  ...   -6.203148  106.844368\n",
              "75%          NaN               NaN  ...   -6.160683  106.888176\n",
              "max          NaN               NaN  ...   -5.802386  106.970238\n",
              "\n",
              "[11 rows x 12 columns]"
            ]
          },
          "metadata": {
            "tags": []
          },
          "execution_count": 82
        }
      ]
    },
    {
      "cell_type": "code",
      "metadata": {
        "colab": {
          "base_uri": "https://localhost:8080/",
          "height": 396
        },
        "id": "KA8NeX2zRM5R",
        "outputId": "91a6c724-7238-4926-e3b2-03d8c3863aac"
      },
      "source": [
        "(100*df.notna().mean()).plot(kind='bar', title='Presentasi Kolom yang menunjukan kolom Nan', color=['black', 'red', 'green', 'blue', 'cyan']);"
      ],
      "execution_count": 85,
      "outputs": [
        {
          "output_type": "display_data",
          "data": {
            "image/png": "[encoded data removed]",
            "text/plain": [
              "<Figure size 432x288 with 1 Axes>"
            ]
          },
          "metadata": {
            "tags": []
          }
        }
      ]
    },
    {
      "cell_type": "code",
      "metadata": {
        "id": "mIr0tt-CeYdC",
        "outputId": "73a45040-5a05-4a31-f07d-70ebb3de3bdf",
        "colab": {
          "base_uri": "https://localhost:8080/",
          "height": 444
        }
      },
      "source": [
        "df = df[df['kepala_sekolah'].isna()]\n",
        "\n",
        "df.describe(include='all')"
      ],
      "execution_count": 107,
      "outputs": [
        {
          "output_type": "execute_result",
          "data": {
            "text/html": [
              "<div>\n",
              "<style scoped>\n",
              "    .dataframe tbody tr th:only-of-type {\n",
              "        vertical-align: middle;\n",
              "    }\n",
              "\n",
              "    .dataframe tbody tr th {\n",
              "        vertical-align: top;\n",
              "    }\n",
              "\n",
              "    .dataframe thead th {\n",
              "        text-align: right;\n",
              "    }\n",
              "</style>\n",
              "<table border=\"1\" class=\"dataframe\">\n",
              "  <thead>\n",
              "    <tr style=\"text-align: right;\">\n",
              "      <th></th>\n",
              "      <th>npsn</th>\n",
              "      <th>nama_sekolah</th>\n",
              "      <th>alamat</th>\n",
              "      <th>kelurahan</th>\n",
              "      <th>kecamatan</th>\n",
              "      <th>jumlah_siswa</th>\n",
              "      <th>jumlah_guru</th>\n",
              "      <th>kepala_sekolah</th>\n",
              "      <th>telp_sekolah</th>\n",
              "      <th>akreditasi</th>\n",
              "      <th>latitude</th>\n",
              "      <th>longitude</th>\n",
              "    </tr>\n",
              "  </thead>\n",
              "  <tbody>\n",
              "    <tr>\n",
              "      <th>count</th>\n",
              "      <td>35</td>\n",
              "      <td>36</td>\n",
              "      <td>36</td>\n",
              "      <td>36</td>\n",
              "      <td>36</td>\n",
              "      <td>36.000000</td>\n",
              "      <td>34.000000</td>\n",
              "      <td>0</td>\n",
              "      <td>35</td>\n",
              "      <td>36</td>\n",
              "      <td>31.000000</td>\n",
              "      <td>31.000000</td>\n",
              "    </tr>\n",
              "    <tr>\n",
              "      <th>unique</th>\n",
              "      <td>35</td>\n",
              "      <td>36</td>\n",
              "      <td>36</td>\n",
              "      <td>32</td>\n",
              "      <td>23</td>\n",
              "      <td>NaN</td>\n",
              "      <td>NaN</td>\n",
              "      <td>0</td>\n",
              "      <td>34</td>\n",
              "      <td>3</td>\n",
              "      <td>NaN</td>\n",
              "      <td>NaN</td>\n",
              "    </tr>\n",
              "    <tr>\n",
              "      <th>top</th>\n",
              "      <td>20101496</td>\n",
              "      <td>SMK Budi Asih</td>\n",
              "      <td>Jl. Raya Cilandak KKO</td>\n",
              "      <td>Ujung Menteng</td>\n",
              "      <td>Cakung</td>\n",
              "      <td>NaN</td>\n",
              "      <td>NaN</td>\n",
              "      <td>NaN</td>\n",
              "      <td>021 22813291</td>\n",
              "      <td>A</td>\n",
              "      <td>NaN</td>\n",
              "      <td>NaN</td>\n",
              "    </tr>\n",
              "    <tr>\n",
              "      <th>freq</th>\n",
              "      <td>1</td>\n",
              "      <td>1</td>\n",
              "      <td>1</td>\n",
              "      <td>3</td>\n",
              "      <td>5</td>\n",
              "      <td>NaN</td>\n",
              "      <td>NaN</td>\n",
              "      <td>NaN</td>\n",
              "      <td>2</td>\n",
              "      <td>20</td>\n",
              "      <td>NaN</td>\n",
              "      <td>NaN</td>\n",
              "    </tr>\n",
              "    <tr>\n",
              "      <th>mean</th>\n",
              "      <td>NaN</td>\n",
              "      <td>NaN</td>\n",
              "      <td>NaN</td>\n",
              "      <td>NaN</td>\n",
              "      <td>NaN</td>\n",
              "      <td>260.277778</td>\n",
              "      <td>24.382353</td>\n",
              "      <td>NaN</td>\n",
              "      <td>NaN</td>\n",
              "      <td>NaN</td>\n",
              "      <td>-6.202749</td>\n",
              "      <td>106.827241</td>\n",
              "    </tr>\n",
              "    <tr>\n",
              "      <th>std</th>\n",
              "      <td>NaN</td>\n",
              "      <td>NaN</td>\n",
              "      <td>NaN</td>\n",
              "      <td>NaN</td>\n",
              "      <td>NaN</td>\n",
              "      <td>204.807591</td>\n",
              "      <td>11.273500</td>\n",
              "      <td>NaN</td>\n",
              "      <td>NaN</td>\n",
              "      <td>NaN</td>\n",
              "      <td>0.096592</td>\n",
              "      <td>0.137098</td>\n",
              "    </tr>\n",
              "    <tr>\n",
              "      <th>min</th>\n",
              "      <td>NaN</td>\n",
              "      <td>NaN</td>\n",
              "      <td>NaN</td>\n",
              "      <td>NaN</td>\n",
              "      <td>NaN</td>\n",
              "      <td>0.000000</td>\n",
              "      <td>8.000000</td>\n",
              "      <td>NaN</td>\n",
              "      <td>NaN</td>\n",
              "      <td>NaN</td>\n",
              "      <td>-6.339900</td>\n",
              "      <td>106.249939</td>\n",
              "    </tr>\n",
              "    <tr>\n",
              "      <th>25%</th>\n",
              "      <td>NaN</td>\n",
              "      <td>NaN</td>\n",
              "      <td>NaN</td>\n",
              "      <td>NaN</td>\n",
              "      <td>NaN</td>\n",
              "      <td>95.500000</td>\n",
              "      <td>14.250000</td>\n",
              "      <td>NaN</td>\n",
              "      <td>NaN</td>\n",
              "      <td>NaN</td>\n",
              "      <td>-6.254416</td>\n",
              "      <td>106.802486</td>\n",
              "    </tr>\n",
              "    <tr>\n",
              "      <th>50%</th>\n",
              "      <td>NaN</td>\n",
              "      <td>NaN</td>\n",
              "      <td>NaN</td>\n",
              "      <td>NaN</td>\n",
              "      <td>NaN</td>\n",
              "      <td>204.000000</td>\n",
              "      <td>24.000000</td>\n",
              "      <td>NaN</td>\n",
              "      <td>NaN</td>\n",
              "      <td>NaN</td>\n",
              "      <td>-6.190640</td>\n",
              "      <td>106.844589</td>\n",
              "    </tr>\n",
              "    <tr>\n",
              "      <th>75%</th>\n",
              "      <td>NaN</td>\n",
              "      <td>NaN</td>\n",
              "      <td>NaN</td>\n",
              "      <td>NaN</td>\n",
              "      <td>NaN</td>\n",
              "      <td>397.250000</td>\n",
              "      <td>31.000000</td>\n",
              "      <td>NaN</td>\n",
              "      <td>NaN</td>\n",
              "      <td>NaN</td>\n",
              "      <td>-6.169858</td>\n",
              "      <td>106.898967</td>\n",
              "    </tr>\n",
              "    <tr>\n",
              "      <th>max</th>\n",
              "      <td>NaN</td>\n",
              "      <td>NaN</td>\n",
              "      <td>NaN</td>\n",
              "      <td>NaN</td>\n",
              "      <td>NaN</td>\n",
              "      <td>696.000000</td>\n",
              "      <td>57.000000</td>\n",
              "      <td>NaN</td>\n",
              "      <td>NaN</td>\n",
              "      <td>NaN</td>\n",
              "      <td>-5.802386</td>\n",
              "      <td>106.962906</td>\n",
              "    </tr>\n",
              "  </tbody>\n",
              "</table>\n",
              "</div>"
            ],
            "text/plain": [
              "            npsn   nama_sekolah  ...   latitude   longitude\n",
              "count         35             36  ...  31.000000   31.000000\n",
              "unique        35             36  ...        NaN         NaN\n",
              "top     20101496  SMK Budi Asih  ...        NaN         NaN\n",
              "freq           1              1  ...        NaN         NaN\n",
              "mean         NaN            NaN  ...  -6.202749  106.827241\n",
              "std          NaN            NaN  ...   0.096592    0.137098\n",
              "min          NaN            NaN  ...  -6.339900  106.249939\n",
              "25%          NaN            NaN  ...  -6.254416  106.802486\n",
              "50%          NaN            NaN  ...  -6.190640  106.844589\n",
              "75%          NaN            NaN  ...  -6.169858  106.898967\n",
              "max          NaN            NaN  ...  -5.802386  106.962906\n",
              "\n",
              "[11 rows x 12 columns]"
            ]
          },
          "metadata": {
            "tags": []
          },
          "execution_count": 107
        }
      ]
    },
    {
      "cell_type": "markdown",
      "metadata": {
        "id": "VD4R2psxZVCN"
      },
      "source": [
        "Dapat dilihat bahwa hanya kolom kepala_sekolah yang memiliki Nan Lebih rendah dari yg lain, Sekarang kita akan memeriksa apakah nilai pada kolom kepala sekolah \n",
        "yang tidak terisi terjadi pada saat yang sama saat listing tidak tersedia\n"
      ]
    },
    {
      "cell_type": "markdown",
      "metadata": {
        "id": "S7pImnqNeSHk"
      },
      "source": [
        "Melihat beberapa\n",
        " Atribut dataset lebih rinci"
      ]
    },
    {
      "cell_type": "code",
      "metadata": {
        "id": "T_z7ljRdcq-f",
        "outputId": "8a18c332-4eaf-4166-da92-45ac3693aa3e",
        "colab": {
          "base_uri": "https://localhost:8080/"
        }
      },
      "source": [
        "df['akreditasi'].value_counts()"
      ],
      "execution_count": 97,
      "outputs": [
        {
          "output_type": "execute_result",
          "data": {
            "text/plain": [
              "A                      20\n",
              "B                      15\n",
              "Tidak Terakreditasi     1\n",
              "Name: akreditasi, dtype: int64"
            ]
          },
          "metadata": {
            "tags": []
          },
          "execution_count": 97
        }
      ]
    },
    {
      "cell_type": "code",
      "metadata": {
        "id": "aXxzmyVSc0YN",
        "outputId": "ffe34c6c-f4e2-4f97-b335-92d74b602c16",
        "colab": {
          "base_uri": "https://localhost:8080/",
          "height": 421
        }
      },
      "source": [
        "(df['akreditasi'].value_counts()).plot(kind='bar', title='List Akreditasi', color=['black', 'red', 'green', 'blue', 'cyan']);"
      ],
      "execution_count": 101,
      "outputs": [
        {
          "output_type": "display_data",
          "data": {
            "image/png": "[encoded data removed]",
            "text/plain": [
              "<Figure size 432x288 with 1 Axes>"
            ]
          },
          "metadata": {
            "tags": []
          }
        }
      ]
    },
    {
      "cell_type": "code",
      "metadata": {
        "id": "gpOO4Zvqddjv",
        "outputId": "c83c770d-1e1d-4f5b-dff0-12580607c259",
        "colab": {
          "base_uri": "https://localhost:8080/"
        }
      },
      "source": [
        "df['jumlah_guru'].value_counts()"
      ],
      "execution_count": 104,
      "outputs": [
        {
          "output_type": "execute_result",
          "data": {
            "text/plain": [
              "13.0    3\n",
              "14.0    2\n",
              "29.0    2\n",
              "31.0    2\n",
              "36.0    2\n",
              "15.0    2\n",
              "8.0     2\n",
              "11.0    2\n",
              "24.0    2\n",
              "23.0    1\n",
              "19.0    1\n",
              "35.0    1\n",
              "33.0    1\n",
              "28.0    1\n",
              "38.0    1\n",
              "17.0    1\n",
              "30.0    1\n",
              "27.0    1\n",
              "22.0    1\n",
              "46.0    1\n",
              "32.0    1\n",
              "57.0    1\n",
              "21.0    1\n",
              "26.0    1\n",
              "Name: jumlah_guru, dtype: int64"
            ]
          },
          "metadata": {
            "tags": []
          },
          "execution_count": 104
        }
      ]
    },
    {
      "cell_type": "code",
      "metadata": {
        "id": "5NZMSYjNdz-H",
        "outputId": "28a74773-28fa-4c1d-af00-a8477a21ed97",
        "colab": {
          "base_uri": "https://localhost:8080/",
          "height": 320
        }
      },
      "source": [
        "(df['jumlah_guru'].value_counts()).plot(kind='bar', title='List Jumlah Guru', color=['black', 'red', 'green', 'blue', 'cyan']);"
      ],
      "execution_count": 106,
      "outputs": [
        {
          "output_type": "display_data",
          "data": {
            "image/png": "[encoded data removed]",
            "text/plain": [
              "<Figure size 432x288 with 1 Axes>"
            ]
          },
          "metadata": {
            "tags": []
          }
        }
      ]
    },
    {
      "cell_type": "code",
      "metadata": {
        "colab": {
          "base_uri": "https://localhost:8080/"
        },
        "id": "kc0EcMhPCZmI",
        "outputId": "8cc50745-d4c6-46bc-ea8b-cc5671b7d7dd"
      },
      "source": [
        "df['jumlah_siswa'].value_counts()"
      ],
      "execution_count": 108,
      "outputs": [
        {
          "output_type": "execute_result",
          "data": {
            "text/plain": [
              "0      2\n",
              "56     1\n",
              "177    1\n",
              "603    1\n",
              "641    1\n",
              "153    1\n",
              "437    1\n",
              "531    1\n",
              "44     1\n",
              "79     1\n",
              "222    1\n",
              "13     1\n",
              "332    1\n",
              "139    1\n",
              "200    1\n",
              "169    1\n",
              "29     1\n",
              "172    1\n",
              "382    1\n",
              "625    1\n",
              "140    1\n",
              "59     1\n",
              "696    1\n",
              "41     1\n",
              "501    1\n",
              "307    1\n",
              "493    1\n",
              "321    1\n",
              "459    1\n",
              "208    1\n",
              "317    1\n",
              "236    1\n",
              "103    1\n",
              "101    1\n",
              "384    1\n",
              "Name: jumlah_siswa, dtype: int64"
            ]
          },
          "metadata": {
            "tags": []
          },
          "execution_count": 108
        }
      ]
    },
    {
      "cell_type": "code",
      "metadata": {
        "id": "2iRkpTgzex8j",
        "outputId": "0e3eb799-04ab-4761-d0b9-96e5c1274a8b",
        "colab": {
          "base_uri": "https://localhost:8080/",
          "height": 316
        }
      },
      "source": [
        "(df['jumlah_siswa'].value_counts()).plot(kind='bar', title='List Akreditasi', color=['black', 'red', 'green', 'blue', 'cyan']);"
      ],
      "execution_count": 109,
      "outputs": [
        {
          "output_type": "display_data",
          "data": {
            "image/png": "[encoded data removed]",
            "text/plain": [
              "<Figure size 432x288 with 1 Axes>"
            ]
          },
          "metadata": {
            "tags": []
          }
        }
      ]
    },
    {
      "cell_type": "markdown",
      "metadata": {
        "id": "8PY-r9o2fGiY"
      },
      "source": [
        "DATA PREPARATION"
      ]
    },
    {
      "cell_type": "code",
      "metadata": {
        "id": "wIYPk2uGfIRy",
        "outputId": "4c928647-8c48-4311-f9f3-629cc688891a",
        "colab": {
          "base_uri": "https://localhost:8080/",
          "height": 462
        }
      },
      "source": [
        "df.head()"
      ],
      "execution_count": 110,
      "outputs": [
        {
          "output_type": "execute_result",
          "data": {
            "text/html": [
              "<div>\n",
              "<style scoped>\n",
              "    .dataframe tbody tr th:only-of-type {\n",
              "        vertical-align: middle;\n",
              "    }\n",
              "\n",
              "    .dataframe tbody tr th {\n",
              "        vertical-align: top;\n",
              "    }\n",
              "\n",
              "    .dataframe thead th {\n",
              "        text-align: right;\n",
              "    }\n",
              "</style>\n",
              "<table border=\"1\" class=\"dataframe\">\n",
              "  <thead>\n",
              "    <tr style=\"text-align: right;\">\n",
              "      <th></th>\n",
              "      <th>npsn</th>\n",
              "      <th>nama_sekolah</th>\n",
              "      <th>alamat</th>\n",
              "      <th>kelurahan</th>\n",
              "      <th>kecamatan</th>\n",
              "      <th>jumlah_siswa</th>\n",
              "      <th>jumlah_guru</th>\n",
              "      <th>kepala_sekolah</th>\n",
              "      <th>telp_sekolah</th>\n",
              "      <th>akreditasi</th>\n",
              "      <th>latitude</th>\n",
              "      <th>longitude</th>\n",
              "    </tr>\n",
              "  </thead>\n",
              "  <tbody>\n",
              "    <tr>\n",
              "      <th>1</th>\n",
              "      <td>20100104</td>\n",
              "      <td>SMK Kartini 1 Jakarta</td>\n",
              "      <td>Jl. Katini Raya No. 26</td>\n",
              "      <td>Kartini</td>\n",
              "      <td>Sawah Besar</td>\n",
              "      <td>139</td>\n",
              "      <td>8.0</td>\n",
              "      <td>NaN</td>\n",
              "      <td>021 6597662</td>\n",
              "      <td>A</td>\n",
              "      <td>-6.158000</td>\n",
              "      <td>106.836601</td>\n",
              "    </tr>\n",
              "    <tr>\n",
              "      <th>2</th>\n",
              "      <td>20100105</td>\n",
              "      <td>SMK Kampung Jawa Jakarta</td>\n",
              "      <td>Jl. Percetakan Negara 2</td>\n",
              "      <td>Johar Baru</td>\n",
              "      <td>Johar Baru</td>\n",
              "      <td>384</td>\n",
              "      <td>29.0</td>\n",
              "      <td>NaN</td>\n",
              "      <td>021 4212680</td>\n",
              "      <td>B</td>\n",
              "      <td>-6.186982</td>\n",
              "      <td>106.856354</td>\n",
              "    </tr>\n",
              "    <tr>\n",
              "      <th>6</th>\n",
              "      <td>20100114</td>\n",
              "      <td>SMK Ksatrya Jakarta</td>\n",
              "      <td>Jl. Percetakan Negara D232</td>\n",
              "      <td>Cempaka Putih Timur</td>\n",
              "      <td>Cempaka Putih</td>\n",
              "      <td>307</td>\n",
              "      <td>35.0</td>\n",
              "      <td>NaN</td>\n",
              "      <td>021 4256689</td>\n",
              "      <td>A</td>\n",
              "      <td>-6.187400</td>\n",
              "      <td>106.869667</td>\n",
              "    </tr>\n",
              "    <tr>\n",
              "      <th>37</th>\n",
              "      <td>20100165</td>\n",
              "      <td>SMK Negeri 31</td>\n",
              "      <td>Jl. Kramat Jaya Baru Blok D II</td>\n",
              "      <td>Johar Baru</td>\n",
              "      <td>Johar Baru</td>\n",
              "      <td>531</td>\n",
              "      <td>33.0</td>\n",
              "      <td>NaN</td>\n",
              "      <td>021 4246015</td>\n",
              "      <td>A</td>\n",
              "      <td>-6.181825</td>\n",
              "      <td>106.851952</td>\n",
              "    </tr>\n",
              "    <tr>\n",
              "      <th>56</th>\n",
              "      <td>20101468</td>\n",
              "      <td>SMK Wiyata Satya</td>\n",
              "      <td>Jl. Taman Mutiara Prima No 3 Gili Sampeng Kebo...</td>\n",
              "      <td>Kemanggisan</td>\n",
              "      <td>Palmerah</td>\n",
              "      <td>501</td>\n",
              "      <td>28.0</td>\n",
              "      <td>NaN</td>\n",
              "      <td>021 53667809</td>\n",
              "      <td>B</td>\n",
              "      <td>-6.190640</td>\n",
              "      <td>106.794090</td>\n",
              "    </tr>\n",
              "  </tbody>\n",
              "</table>\n",
              "</div>"
            ],
            "text/plain": [
              "        npsn              nama_sekolah  ...  latitude   longitude\n",
              "1   20100104     SMK Kartini 1 Jakarta  ... -6.158000  106.836601\n",
              "2   20100105  SMK Kampung Jawa Jakarta  ... -6.186982  106.856354\n",
              "6   20100114       SMK Ksatrya Jakarta  ... -6.187400  106.869667\n",
              "37  20100165             SMK Negeri 31  ... -6.181825  106.851952\n",
              "56  20101468          SMK Wiyata Satya  ... -6.190640  106.794090\n",
              "\n",
              "[5 rows x 12 columns]"
            ]
          },
          "metadata": {
            "tags": []
          },
          "execution_count": 110
        }
      ]
    },
    {
      "cell_type": "code",
      "metadata": {
        "id": "lRp_XgHCfQBa"
      },
      "source": [
        "df['npsn'] = pd.to_numeric(df['npsn'])"
      ],
      "execution_count": 111,
      "outputs": []
    },
    {
      "cell_type": "code",
      "metadata": {
        "id": "maDfuFoKfYrt",
        "outputId": "1e9cf5f5-3dd5-42c4-8e22-badd95861e1f",
        "colab": {
          "base_uri": "https://localhost:8080/",
          "height": 421
        }
      },
      "source": [
        "(df['akreditasi'].value_counts()).plot(kind='bar', title='List Akreditasi', color=['black', 'red', 'green', 'blue', 'cyan']);"
      ],
      "execution_count": 115,
      "outputs": [
        {
          "output_type": "display_data",
          "data": {
            "image/png": "[encoded data removed]",
            "text/plain": [
              "<Figure size 432x288 with 1 Axes>"
            ]
          },
          "metadata": {
            "tags": []
          }
        }
      ]
    },
    {
      "cell_type": "markdown",
      "metadata": {
        "id": "l_mmpBawg041"
      },
      "source": [
        "Modelling Data"
      ]
    },
    {
      "cell_type": "markdown",
      "metadata": {
        "id": "eUhk8OODhByI"
      },
      "source": [
        "membuat kerangka data yang mampu menunjukkan kinerja yang berbeda dari algoritma."
      ]
    },
    {
      "cell_type": "code",
      "metadata": {
        "id": "Bd0qrGEchDA2",
        "outputId": "dfef62a8-17b9-4ca3-cc2f-bedcb13d3292",
        "colab": {
          "base_uri": "https://localhost:8080/",
          "height": 111
        }
      },
      "source": [
        "df_algorthm_perfo = pd.DataFrame(index=['r2_score_train','r2_score_test'], columns=['Ada_Boost_Regressor'])\n",
        "df_algorthm_perfo.fillna(0, inplace=True)\n",
        "df_algorthm_perfo.head()"
      ],
      "execution_count": 117,
      "outputs": [
        {
          "output_type": "execute_result",
          "data": {
            "text/html": [
              "<div>\n",
              "<style scoped>\n",
              "    .dataframe tbody tr th:only-of-type {\n",
              "        vertical-align: middle;\n",
              "    }\n",
              "\n",
              "    .dataframe tbody tr th {\n",
              "        vertical-align: top;\n",
              "    }\n",
              "\n",
              "    .dataframe thead th {\n",
              "        text-align: right;\n",
              "    }\n",
              "</style>\n",
              "<table border=\"1\" class=\"dataframe\">\n",
              "  <thead>\n",
              "    <tr style=\"text-align: right;\">\n",
              "      <th></th>\n",
              "      <th>Ada_Boost_Regressor</th>\n",
              "    </tr>\n",
              "  </thead>\n",
              "  <tbody>\n",
              "    <tr>\n",
              "      <th>r2_score_train</th>\n",
              "      <td>0</td>\n",
              "    </tr>\n",
              "    <tr>\n",
              "      <th>r2_score_test</th>\n",
              "      <td>0</td>\n",
              "    </tr>\n",
              "  </tbody>\n",
              "</table>\n",
              "</div>"
            ],
            "text/plain": [
              "                Ada_Boost_Regressor\n",
              "r2_score_train                    0\n",
              "r2_score_test                     0"
            ]
          },
          "metadata": {
            "tags": []
          },
          "execution_count": 117
        }
      ]
    },
    {
      "cell_type": "markdown",
      "metadata": {
        "id": "FQQogA05hOag"
      },
      "source": [
        "membagi data menjadi susunan dan pengujian dengan ukuran pengujian menjadi 30% dari data"
      ]
    },
    {
      "cell_type": "code",
      "metadata": {
        "id": "LoCdg2l5hKiy"
      },
      "source": [
        "from sklearn.model_selection import train_test_split\n",
        "from sklearn.ensemble import AdaBoostRegressor\n",
        "from sklearn.model_selection import RandomizedSearchCV, GridSearchCV\n",
        "\n",
        "X_train, X_test, y_train, y_test = train_test_split(features, target, test_size=0.3, random_state=42)"
      ],
      "execution_count": 118,
      "outputs": []
    },
    {
      "cell_type": "code",
      "metadata": {
        "id": "zeSQcVrPhY5r",
        "outputId": "cfb0a459-ae8a-4a25-b18c-7bfe0ee7f3c1",
        "colab": {
          "base_uri": "https://localhost:8080/",
          "height": 391
        }
      },
      "source": [
        "param_dist = {\n",
        " 'n_estimators': [500, 2000],\n",
        " 'learning_rate' : [0.01,0.05,0.1,0.3,1],\n",
        " 'loss' : ['linear', 'square', 'exponential']\n",
        " }\n",
        "\n",
        "\n",
        "\n",
        "adamodel = RandomizedSearchCV(AdaBoostRegressor(), param_distributions = param_dist, cv=3, n_iter = 20, n_jobs=-1);\n",
        "                              \n",
        "adamodel.fit(X_train, y_train)\n",
        "y_pred_test = adamodel.predict(X_test)\n",
        "y_pred_train = adamodel.predict(X_train)\n",
        "df_algorthm_perfo.loc['r2_score_test','Ada_Boost_Regressor'] = r2_score(y_test, y_pred_test)\n",
        "df_algorthm_perfo.loc['r2_score_train','Ada_Boost_Regressor'] = r2_score(y_train, y_pred_train)"
      ],
      "execution_count": 120,
      "outputs": [
        {
          "output_type": "error",
          "ename": "ValueError",
          "evalue": "ignored",
          "traceback": [
            "\u001b[0;31m---------------------------------------------------------------------------\u001b[0m",
            "\u001b[0;31mValueError\u001b[0m                                Traceback (most recent call last)",
            "\u001b[0;32m<ipython-input-120-c1d318ed1528>\u001b[0m in \u001b[0;36m<module>\u001b[0;34m()\u001b[0m\n\u001b[1;32m      9\u001b[0m \u001b[0madamodel\u001b[0m \u001b[0;34m=\u001b[0m \u001b[0mRandomizedSearchCV\u001b[0m\u001b[0;34m(\u001b[0m\u001b[0mAdaBoostRegressor\u001b[0m\u001b[0;34m(\u001b[0m\u001b[0;34m)\u001b[0m\u001b[0;34m,\u001b[0m \u001b[0mparam_distributions\u001b[0m \u001b[0;34m=\u001b[0m \u001b[0mparam_dist\u001b[0m\u001b[0;34m,\u001b[0m \u001b[0mcv\u001b[0m\u001b[0;34m=\u001b[0m\u001b[0;36m3\u001b[0m\u001b[0;34m,\u001b[0m \u001b[0mn_iter\u001b[0m \u001b[0;34m=\u001b[0m \u001b[0;36m20\u001b[0m\u001b[0;34m,\u001b[0m \u001b[0mn_jobs\u001b[0m\u001b[0;34m=\u001b[0m\u001b[0;34m-\u001b[0m\u001b[0;36m1\u001b[0m\u001b[0;34m)\u001b[0m\u001b[0;34m;\u001b[0m\u001b[0;34m\u001b[0m\u001b[0;34m\u001b[0m\u001b[0m\n\u001b[1;32m     10\u001b[0m \u001b[0;34m\u001b[0m\u001b[0m\n\u001b[0;32m---> 11\u001b[0;31m \u001b[0madamodel\u001b[0m\u001b[0;34m.\u001b[0m\u001b[0mfit\u001b[0m\u001b[0;34m(\u001b[0m\u001b[0mX_train\u001b[0m\u001b[0;34m,\u001b[0m \u001b[0my_train\u001b[0m\u001b[0;34m)\u001b[0m\u001b[0;34m\u001b[0m\u001b[0;34m\u001b[0m\u001b[0m\n\u001b[0m\u001b[1;32m     12\u001b[0m \u001b[0my_pred_test\u001b[0m \u001b[0;34m=\u001b[0m \u001b[0madamodel\u001b[0m\u001b[0;34m.\u001b[0m\u001b[0mpredict\u001b[0m\u001b[0;34m(\u001b[0m\u001b[0mX_test\u001b[0m\u001b[0;34m)\u001b[0m\u001b[0;34m\u001b[0m\u001b[0;34m\u001b[0m\u001b[0m\n\u001b[1;32m     13\u001b[0m \u001b[0my_pred_train\u001b[0m \u001b[0;34m=\u001b[0m \u001b[0madamodel\u001b[0m\u001b[0;34m.\u001b[0m\u001b[0mpredict\u001b[0m\u001b[0;34m(\u001b[0m\u001b[0mX_train\u001b[0m\u001b[0;34m)\u001b[0m\u001b[0;34m\u001b[0m\u001b[0;34m\u001b[0m\u001b[0m\n",
            "\u001b[0;32m/usr/local/lib/python3.7/dist-packages/sklearn/model_selection/_search.py\u001b[0m in \u001b[0;36mfit\u001b[0;34m(self, X, y, groups, **fit_params)\u001b[0m\n\u001b[1;32m    737\u001b[0m             \u001b[0mrefit_start_time\u001b[0m \u001b[0;34m=\u001b[0m \u001b[0mtime\u001b[0m\u001b[0;34m.\u001b[0m\u001b[0mtime\u001b[0m\u001b[0;34m(\u001b[0m\u001b[0;34m)\u001b[0m\u001b[0;34m\u001b[0m\u001b[0;34m\u001b[0m\u001b[0m\n\u001b[1;32m    738\u001b[0m             \u001b[0;32mif\u001b[0m \u001b[0my\u001b[0m \u001b[0;32mis\u001b[0m \u001b[0;32mnot\u001b[0m \u001b[0;32mNone\u001b[0m\u001b[0;34m:\u001b[0m\u001b[0;34m\u001b[0m\u001b[0;34m\u001b[0m\u001b[0m\n\u001b[0;32m--> 739\u001b[0;31m                 \u001b[0mself\u001b[0m\u001b[0;34m.\u001b[0m\u001b[0mbest_estimator_\u001b[0m\u001b[0;34m.\u001b[0m\u001b[0mfit\u001b[0m\u001b[0;34m(\u001b[0m\u001b[0mX\u001b[0m\u001b[0;34m,\u001b[0m \u001b[0my\u001b[0m\u001b[0;34m,\u001b[0m \u001b[0;34m**\u001b[0m\u001b[0mfit_params\u001b[0m\u001b[0;34m)\u001b[0m\u001b[0;34m\u001b[0m\u001b[0;34m\u001b[0m\u001b[0m\n\u001b[0m\u001b[1;32m    740\u001b[0m             \u001b[0;32melse\u001b[0m\u001b[0;34m:\u001b[0m\u001b[0;34m\u001b[0m\u001b[0;34m\u001b[0m\u001b[0m\n\u001b[1;32m    741\u001b[0m                 \u001b[0mself\u001b[0m\u001b[0;34m.\u001b[0m\u001b[0mbest_estimator_\u001b[0m\u001b[0;34m.\u001b[0m\u001b[0mfit\u001b[0m\u001b[0;34m(\u001b[0m\u001b[0mX\u001b[0m\u001b[0;34m,\u001b[0m \u001b[0;34m**\u001b[0m\u001b[0mfit_params\u001b[0m\u001b[0;34m)\u001b[0m\u001b[0;34m\u001b[0m\u001b[0;34m\u001b[0m\u001b[0m\n",
            "\u001b[0;32m/usr/local/lib/python3.7/dist-packages/sklearn/ensemble/_weight_boosting.py\u001b[0m in \u001b[0;36mfit\u001b[0;34m(self, X, y, sample_weight)\u001b[0m\n\u001b[1;32m    992\u001b[0m \u001b[0;34m\u001b[0m\u001b[0m\n\u001b[1;32m    993\u001b[0m         \u001b[0;31m# Fit\u001b[0m\u001b[0;34m\u001b[0m\u001b[0;34m\u001b[0m\u001b[0;34m\u001b[0m\u001b[0m\n\u001b[0;32m--> 994\u001b[0;31m         \u001b[0;32mreturn\u001b[0m \u001b[0msuper\u001b[0m\u001b[0;34m(\u001b[0m\u001b[0;34m)\u001b[0m\u001b[0;34m.\u001b[0m\u001b[0mfit\u001b[0m\u001b[0;34m(\u001b[0m\u001b[0mX\u001b[0m\u001b[0;34m,\u001b[0m \u001b[0my\u001b[0m\u001b[0;34m,\u001b[0m \u001b[0msample_weight\u001b[0m\u001b[0;34m)\u001b[0m\u001b[0;34m\u001b[0m\u001b[0;34m\u001b[0m\u001b[0m\n\u001b[0m\u001b[1;32m    995\u001b[0m \u001b[0;34m\u001b[0m\u001b[0m\n\u001b[1;32m    996\u001b[0m     \u001b[0;32mdef\u001b[0m \u001b[0m_validate_estimator\u001b[0m\u001b[0;34m(\u001b[0m\u001b[0mself\u001b[0m\u001b[0;34m)\u001b[0m\u001b[0;34m:\u001b[0m\u001b[0;34m\u001b[0m\u001b[0;34m\u001b[0m\u001b[0m\n",
            "\u001b[0;32m/usr/local/lib/python3.7/dist-packages/sklearn/ensemble/_weight_boosting.py\u001b[0m in \u001b[0;36mfit\u001b[0;34m(self, X, y, sample_weight)\u001b[0m\n\u001b[1;32m    117\u001b[0m             \u001b[0;32mraise\u001b[0m \u001b[0mValueError\u001b[0m\u001b[0;34m(\u001b[0m\u001b[0;34m\"learning_rate must be greater than zero\"\u001b[0m\u001b[0;34m)\u001b[0m\u001b[0;34m\u001b[0m\u001b[0;34m\u001b[0m\u001b[0m\n\u001b[1;32m    118\u001b[0m \u001b[0;34m\u001b[0m\u001b[0m\n\u001b[0;32m--> 119\u001b[0;31m         \u001b[0mX\u001b[0m\u001b[0;34m,\u001b[0m \u001b[0my\u001b[0m \u001b[0;34m=\u001b[0m \u001b[0mself\u001b[0m\u001b[0;34m.\u001b[0m\u001b[0m_validate_data\u001b[0m\u001b[0;34m(\u001b[0m\u001b[0mX\u001b[0m\u001b[0;34m,\u001b[0m \u001b[0my\u001b[0m\u001b[0;34m)\u001b[0m\u001b[0;34m\u001b[0m\u001b[0;34m\u001b[0m\u001b[0m\n\u001b[0m\u001b[1;32m    120\u001b[0m \u001b[0;34m\u001b[0m\u001b[0m\n\u001b[1;32m    121\u001b[0m         \u001b[0msample_weight\u001b[0m \u001b[0;34m=\u001b[0m \u001b[0m_check_sample_weight\u001b[0m\u001b[0;34m(\u001b[0m\u001b[0msample_weight\u001b[0m\u001b[0;34m,\u001b[0m \u001b[0mX\u001b[0m\u001b[0;34m,\u001b[0m \u001b[0mnp\u001b[0m\u001b[0;34m.\u001b[0m\u001b[0mfloat64\u001b[0m\u001b[0;34m)\u001b[0m\u001b[0;34m\u001b[0m\u001b[0;34m\u001b[0m\u001b[0m\n",
            "\u001b[0;32m/usr/local/lib/python3.7/dist-packages/sklearn/ensemble/_weight_boosting.py\u001b[0m in \u001b[0;36m_validate_data\u001b[0;34m(self, X, y)\u001b[0m\n\u001b[1;32m     89\u001b[0m                             \u001b[0mallow_nd\u001b[0m\u001b[0;34m=\u001b[0m\u001b[0;32mTrue\u001b[0m\u001b[0;34m,\u001b[0m\u001b[0;34m\u001b[0m\u001b[0;34m\u001b[0m\u001b[0m\n\u001b[1;32m     90\u001b[0m                             \u001b[0mdtype\u001b[0m\u001b[0;34m=\u001b[0m\u001b[0;32mNone\u001b[0m\u001b[0;34m,\u001b[0m\u001b[0;34m\u001b[0m\u001b[0;34m\u001b[0m\u001b[0m\n\u001b[0;32m---> 91\u001b[0;31m                             y_numeric=is_regressor(self))\n\u001b[0m\u001b[1;32m     92\u001b[0m         \u001b[0;32mreturn\u001b[0m \u001b[0mret\u001b[0m\u001b[0;34m\u001b[0m\u001b[0;34m\u001b[0m\u001b[0m\n\u001b[1;32m     93\u001b[0m \u001b[0;34m\u001b[0m\u001b[0m\n",
            "\u001b[0;32m/usr/local/lib/python3.7/dist-packages/sklearn/utils/validation.py\u001b[0m in \u001b[0;36mcheck_X_y\u001b[0;34m(X, y, accept_sparse, accept_large_sparse, dtype, order, copy, force_all_finite, ensure_2d, allow_nd, multi_output, ensure_min_samples, ensure_min_features, y_numeric, warn_on_dtype, estimator)\u001b[0m\n\u001b[1;32m    753\u001b[0m                     \u001b[0mensure_min_features\u001b[0m\u001b[0;34m=\u001b[0m\u001b[0mensure_min_features\u001b[0m\u001b[0;34m,\u001b[0m\u001b[0;34m\u001b[0m\u001b[0;34m\u001b[0m\u001b[0m\n\u001b[1;32m    754\u001b[0m                     \u001b[0mwarn_on_dtype\u001b[0m\u001b[0;34m=\u001b[0m\u001b[0mwarn_on_dtype\u001b[0m\u001b[0;34m,\u001b[0m\u001b[0;34m\u001b[0m\u001b[0;34m\u001b[0m\u001b[0m\n\u001b[0;32m--> 755\u001b[0;31m                     estimator=estimator)\n\u001b[0m\u001b[1;32m    756\u001b[0m     \u001b[0;32mif\u001b[0m \u001b[0mmulti_output\u001b[0m\u001b[0;34m:\u001b[0m\u001b[0;34m\u001b[0m\u001b[0;34m\u001b[0m\u001b[0m\n\u001b[1;32m    757\u001b[0m         y = check_array(y, 'csr', force_all_finite=True, ensure_2d=False,\n",
            "\u001b[0;32m/usr/local/lib/python3.7/dist-packages/sklearn/utils/validation.py\u001b[0m in \u001b[0;36mcheck_array\u001b[0;34m(array, accept_sparse, accept_large_sparse, dtype, order, copy, force_all_finite, ensure_2d, allow_nd, ensure_min_samples, ensure_min_features, warn_on_dtype, estimator)\u001b[0m\n\u001b[1;32m    576\u001b[0m         \u001b[0;32mif\u001b[0m \u001b[0mforce_all_finite\u001b[0m\u001b[0;34m:\u001b[0m\u001b[0;34m\u001b[0m\u001b[0;34m\u001b[0m\u001b[0m\n\u001b[1;32m    577\u001b[0m             _assert_all_finite(array,\n\u001b[0;32m--> 578\u001b[0;31m                                allow_nan=force_all_finite == 'allow-nan')\n\u001b[0m\u001b[1;32m    579\u001b[0m \u001b[0;34m\u001b[0m\u001b[0m\n\u001b[1;32m    580\u001b[0m     \u001b[0;32mif\u001b[0m \u001b[0mensure_min_samples\u001b[0m \u001b[0;34m>\u001b[0m \u001b[0;36m0\u001b[0m\u001b[0;34m:\u001b[0m\u001b[0;34m\u001b[0m\u001b[0;34m\u001b[0m\u001b[0m\n",
            "\u001b[0;32m/usr/local/lib/python3.7/dist-packages/sklearn/utils/validation.py\u001b[0m in \u001b[0;36m_assert_all_finite\u001b[0;34m(X, allow_nan, msg_dtype)\u001b[0m\n\u001b[1;32m     63\u001b[0m     \u001b[0;32melif\u001b[0m \u001b[0mX\u001b[0m\u001b[0;34m.\u001b[0m\u001b[0mdtype\u001b[0m \u001b[0;34m==\u001b[0m \u001b[0mnp\u001b[0m\u001b[0;34m.\u001b[0m\u001b[0mdtype\u001b[0m\u001b[0;34m(\u001b[0m\u001b[0;34m'object'\u001b[0m\u001b[0;34m)\u001b[0m \u001b[0;32mand\u001b[0m \u001b[0;32mnot\u001b[0m \u001b[0mallow_nan\u001b[0m\u001b[0;34m:\u001b[0m\u001b[0;34m\u001b[0m\u001b[0;34m\u001b[0m\u001b[0m\n\u001b[1;32m     64\u001b[0m         \u001b[0;32mif\u001b[0m \u001b[0m_object_dtype_isnan\u001b[0m\u001b[0;34m(\u001b[0m\u001b[0mX\u001b[0m\u001b[0;34m)\u001b[0m\u001b[0;34m.\u001b[0m\u001b[0many\u001b[0m\u001b[0;34m(\u001b[0m\u001b[0;34m)\u001b[0m\u001b[0;34m:\u001b[0m\u001b[0;34m\u001b[0m\u001b[0;34m\u001b[0m\u001b[0m\n\u001b[0;32m---> 65\u001b[0;31m             \u001b[0;32mraise\u001b[0m \u001b[0mValueError\u001b[0m\u001b[0;34m(\u001b[0m\u001b[0;34m\"Input contains NaN\"\u001b[0m\u001b[0;34m)\u001b[0m\u001b[0;34m\u001b[0m\u001b[0;34m\u001b[0m\u001b[0m\n\u001b[0m\u001b[1;32m     66\u001b[0m \u001b[0;34m\u001b[0m\u001b[0m\n\u001b[1;32m     67\u001b[0m \u001b[0;34m\u001b[0m\u001b[0m\n",
            "\u001b[0;31mValueError\u001b[0m: Input contains NaN"
          ]
        }
      ]
    },
    {
      "cell_type": "markdown",
      "metadata": {
        "id": "7IiEfa_2h_lw"
      },
      "source": [
        "Decission Tree"
      ]
    },
    {
      "cell_type": "code",
      "metadata": {
        "id": "PXvuyHFSiCuY"
      },
      "source": [
        "df['Decision_Tree_Regressor'] = 0"
      ],
      "execution_count": 121,
      "outputs": []
    },
    {
      "cell_type": "code",
      "metadata": {
        "id": "Cd68TFTfiUgJ"
      },
      "source": [
        "from sklearn.pipeline import make_pipeline\n",
        "from sklearn import tree\n",
        "from sklearn.metrics import mean_squared_error\n",
        "from sklearn.metrics import make_scorer\n",
        "\n",
        "def root_mean_squared_error(y_true, y_pred):\n",
        "    ''' Root mean squared error regression loss\n",
        "    \n",
        "    Parameters\n",
        "    ----------\n",
        "    y_true : array-like of shape = (n_samples) or (n_samples, n_outputs)\n",
        "    Ground truth (correct) target values.\n",
        "\n",
        "    y_pred : array-like of shape = (n_samples) or (n_samples, n_outputs)\n",
        "    Estimated target values.\n",
        "    '''\n",
        "    return np.sqrt(mean_squared_error(y_true, y_pred))\n",
        "\n",
        "rmse_scorer = make_scorer(root_mean_squared_error, greater_is_better=False)\n",
        "\n",
        "\n",
        "\n",
        "\n",
        "pipe_tree = make_pipeline(tree.DecisionTreeRegressor(random_state=1))\n",
        "\n",
        "depths = np.arange(1, 20)\n",
        "\n",
        "num_leafs = [1, 5, 10, 20, 50, 100]\n",
        "param_grid = [{'decisiontreeregressor__max_depth':depths,\n",
        "              'decisiontreeregressor__min_samples_leaf':num_leafs}]\n",
        "\n",
        "gs = GridSearchCV(estimator=pipe_tree, param_grid=param_grid, scoring=rmse_scorer, cv=10)\n",
        "\n",
        "gs = gs.fit(X_train, y_train)\n",
        "print(-gs.best_score_)\n",
        "print(gs.best_params_)\n",
        "my_model = gs.best_estimator_\n",
        "my_model.fit(X_train, y_train)\n",
        "y_pred_test_DT = my_model.predict(X_test)\n",
        "y_pred_train_DT = my_model.predict(X_train) \n",
        "df_algorthm_perfo.loc['r2_score_test','Decision_Tree_Regressor'] = r2_score(y_test, y_pred_test_DT)\n",
        "df_algorthm_perfo.loc['r2_score_train','Decision_Tree_Regressor'] = r2_score(y_train, y_pred_train_DT)"
      ],
      "execution_count": null,
      "outputs": []
    },
    {
      "cell_type": "code",
      "metadata": {
        "id": "YyL8Ral7iVYC"
      },
      "source": [
        "df_algorthm_perfo.head()"
      ],
      "execution_count": null,
      "outputs": []
    }
  ]
}